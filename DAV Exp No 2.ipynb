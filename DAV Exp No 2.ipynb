{
 "cells": [
  {
   "cell_type": "markdown",
   "metadata": {},
   "source": [
    "# 🚢 **Experiment No. 02: Titanic Survival Prediction** 🎯\n",
    "\n",
    "**Author-** *Prashant Kumar*\n",
    "\n",
    "**Class-** *T.Y.B.Tech (CSE)*\n",
    "\n",
    "**Roll No.-** *B34*\n",
    "\n",
    "---\n",
    "## 📌 **Objective**\n",
    "To build a **training and testing dataset** using the Titanic dataset to predict the probability of survival of a person based on **Gender, Age, and Passenger Class**.\n",
    "\n",
    "---\n",
    "\n",
    "## 📥 **Step 1: Import Required Libraries** 📚\n",
    "\n"
   ]
  },
  {
   "cell_type": "code",
   "execution_count": 1,
   "metadata": {},
   "outputs": [],
   "source": [
    "import pandas as pd\n",
    "import numpy as np\n",
    "import matplotlib.pyplot as plt\n",
    "from sklearn.preprocessing import StandardScaler, LabelEncoder\n",
    "\n",
    "# Display plots inline\n",
    "%matplotlib inline\n"
   ]
  },
  {
   "cell_type": "markdown",
   "metadata": {},
   "source": [
    "## 📂 **Step 2: Load the Dataset 📊**"
   ]
  },
  {
   "cell_type": "code",
   "execution_count": 2,
   "metadata": {},
   "outputs": [
    {
     "data": {
      "text/html": [
       "<div>\n",
       "<style scoped>\n",
       "    .dataframe tbody tr th:only-of-type {\n",
       "        vertical-align: middle;\n",
       "    }\n",
       "\n",
       "    .dataframe tbody tr th {\n",
       "        vertical-align: top;\n",
       "    }\n",
       "\n",
       "    .dataframe thead th {\n",
       "        text-align: right;\n",
       "    }\n",
       "</style>\n",
       "<table border=\"1\" class=\"dataframe\">\n",
       "  <thead>\n",
       "    <tr style=\"text-align: right;\">\n",
       "      <th></th>\n",
       "      <th>PassengerId</th>\n",
       "      <th>Survived</th>\n",
       "      <th>Pclass</th>\n",
       "      <th>Name</th>\n",
       "      <th>Sex</th>\n",
       "      <th>Age</th>\n",
       "      <th>SibSp</th>\n",
       "      <th>Parch</th>\n",
       "      <th>Ticket</th>\n",
       "      <th>Fare</th>\n",
       "      <th>Cabin</th>\n",
       "      <th>Embarked</th>\n",
       "    </tr>\n",
       "  </thead>\n",
       "  <tbody>\n",
       "    <tr>\n",
       "      <th>0</th>\n",
       "      <td>1</td>\n",
       "      <td>0</td>\n",
       "      <td>3</td>\n",
       "      <td>Braund, Mr. Owen Harris</td>\n",
       "      <td>male</td>\n",
       "      <td>22.0</td>\n",
       "      <td>1</td>\n",
       "      <td>0</td>\n",
       "      <td>A/5 21171</td>\n",
       "      <td>7.2500</td>\n",
       "      <td>NaN</td>\n",
       "      <td>S</td>\n",
       "    </tr>\n",
       "    <tr>\n",
       "      <th>1</th>\n",
       "      <td>2</td>\n",
       "      <td>1</td>\n",
       "      <td>1</td>\n",
       "      <td>Cumings, Mrs. John Bradley (Florence Briggs Th...</td>\n",
       "      <td>female</td>\n",
       "      <td>38.0</td>\n",
       "      <td>1</td>\n",
       "      <td>0</td>\n",
       "      <td>PC 17599</td>\n",
       "      <td>71.2833</td>\n",
       "      <td>C85</td>\n",
       "      <td>C</td>\n",
       "    </tr>\n",
       "    <tr>\n",
       "      <th>2</th>\n",
       "      <td>3</td>\n",
       "      <td>1</td>\n",
       "      <td>3</td>\n",
       "      <td>Heikkinen, Miss. Laina</td>\n",
       "      <td>female</td>\n",
       "      <td>26.0</td>\n",
       "      <td>0</td>\n",
       "      <td>0</td>\n",
       "      <td>STON/O2. 3101282</td>\n",
       "      <td>7.9250</td>\n",
       "      <td>NaN</td>\n",
       "      <td>S</td>\n",
       "    </tr>\n",
       "    <tr>\n",
       "      <th>3</th>\n",
       "      <td>4</td>\n",
       "      <td>1</td>\n",
       "      <td>1</td>\n",
       "      <td>Futrelle, Mrs. Jacques Heath (Lily May Peel)</td>\n",
       "      <td>female</td>\n",
       "      <td>35.0</td>\n",
       "      <td>1</td>\n",
       "      <td>0</td>\n",
       "      <td>113803</td>\n",
       "      <td>53.1000</td>\n",
       "      <td>C123</td>\n",
       "      <td>S</td>\n",
       "    </tr>\n",
       "    <tr>\n",
       "      <th>4</th>\n",
       "      <td>5</td>\n",
       "      <td>0</td>\n",
       "      <td>3</td>\n",
       "      <td>Allen, Mr. William Henry</td>\n",
       "      <td>male</td>\n",
       "      <td>35.0</td>\n",
       "      <td>0</td>\n",
       "      <td>0</td>\n",
       "      <td>373450</td>\n",
       "      <td>8.0500</td>\n",
       "      <td>NaN</td>\n",
       "      <td>S</td>\n",
       "    </tr>\n",
       "  </tbody>\n",
       "</table>\n",
       "</div>"
      ],
      "text/plain": [
       "   PassengerId  Survived  Pclass  \\\n",
       "0            1         0       3   \n",
       "1            2         1       1   \n",
       "2            3         1       3   \n",
       "3            4         1       1   \n",
       "4            5         0       3   \n",
       "\n",
       "                                                Name     Sex   Age  SibSp  \\\n",
       "0                            Braund, Mr. Owen Harris    male  22.0      1   \n",
       "1  Cumings, Mrs. John Bradley (Florence Briggs Th...  female  38.0      1   \n",
       "2                             Heikkinen, Miss. Laina  female  26.0      0   \n",
       "3       Futrelle, Mrs. Jacques Heath (Lily May Peel)  female  35.0      1   \n",
       "4                           Allen, Mr. William Henry    male  35.0      0   \n",
       "\n",
       "   Parch            Ticket     Fare Cabin Embarked  \n",
       "0      0         A/5 21171   7.2500   NaN        S  \n",
       "1      0          PC 17599  71.2833   C85        C  \n",
       "2      0  STON/O2. 3101282   7.9250   NaN        S  \n",
       "3      0            113803  53.1000  C123        S  \n",
       "4      0            373450   8.0500   NaN        S  "
      ]
     },
     "execution_count": 2,
     "metadata": {},
     "output_type": "execute_result"
    }
   ],
   "source": [
    "# Load training and test datasets\n",
    "training_set = pd.read_csv(\"C:/Users/prash/Desktop/Data Analytics & Visualization/train.csv\")\n",
    "test_set = pd.read_csv(\"C:/Users/prash/Desktop/Data Analytics & Visualization/test.csv\")\n",
    "\n",
    "# Display first few rows\n",
    "training_set.head()\n"
   ]
  },
  {
   "cell_type": "markdown",
   "metadata": {},
   "source": [
    "## 🔍 **Step 3: Data Cleaning & Feature Engineering**\n",
    "\n",
    "***🏠 Convert Cabin to Deck***"
   ]
  },
  {
   "cell_type": "code",
   "execution_count": 3,
   "metadata": {},
   "outputs": [],
   "source": [
    "# Define possible decks\n",
    "cabin_list = ['A', 'B', 'C', 'D', 'E', 'F', 'T', 'G', 'Unknown']\n",
    "\n",
    "# Function to extract deck from cabin\n",
    "def search_substring(big_string, substring_list):\n",
    "    for substring in substring_list:\n",
    "        if substring in big_string:\n",
    "            return substring\n",
    "    return substring_list[-1]\n",
    "\n",
    "# Apply transformation\n",
    "training_set['Deck'] = training_set['Cabin'].map(lambda x: search_substring(str(x), cabin_list))\n",
    "test_set['Deck'] = test_set['Cabin'].map(lambda x: search_substring(str(x), cabin_list))\n",
    "\n",
    "# Drop Cabin feature\n",
    "training_set.drop('Cabin', axis=1, inplace=True)\n",
    "test_set.drop('Cabin', axis=1, inplace=True)\n"
   ]
  },
  {
   "cell_type": "markdown",
   "metadata": {},
   "source": [
    "***🆔 Extract Title from Name***"
   ]
  },
  {
   "cell_type": "code",
   "execution_count": 4,
   "metadata": {},
   "outputs": [],
   "source": [
    "import re\n",
    "\n",
    "# Function to extract title\n",
    "def get_title(string):\n",
    "    regex = re.compile(r'Mr|Don|Major|Capt|Jonkheer|Rev|Col|Dr|Mrs|Countess|Dona|Mme|Ms|Miss|Mlle|Master', re.IGNORECASE)\n",
    "    results = regex.search(string)\n",
    "    return results.group().lower() if results else \"nan\"\n",
    "\n",
    "# Mapping titles to categories\n",
    "title_dictionary = {\n",
    "    \"capt\": \"Officer\", \"col\": \"Officer\", \"major\": \"Officer\", \"dr\": \"Officer\",\n",
    "    \"jonkheer\": \"Royalty\", \"rev\": \"Officer\", \"countess\": \"Royalty\", \"dona\": \"Royalty\",\n",
    "    \"lady\": \"Royalty\", \"don\": \"Royalty\", \"mr\": \"Mr\", \"mme\": \"Mrs\", \"ms\": \"Mrs\",\n",
    "    \"mrs\": \"Mrs\", \"miss\": \"Miss\", \"mlle\": \"Miss\", \"master\": \"Master\", \"nan\": \"Mr\"\n",
    "}\n",
    "\n",
    "# Apply transformation\n",
    "training_set['Title'] = training_set['Name'].apply(get_title).map(title_dictionary)\n",
    "test_set['Title'] = test_set['Name'].apply(get_title).map(title_dictionary)\n",
    "\n",
    "# Drop Name column\n",
    "training_set.drop('Name', axis=1, inplace=True)\n",
    "test_set.drop('Name', axis=1, inplace=True)\n"
   ]
  },
  {
   "cell_type": "markdown",
   "metadata": {},
   "source": [
    "***🎟️ Drop Ticket Column***"
   ]
  },
  {
   "cell_type": "code",
   "execution_count": 5,
   "metadata": {},
   "outputs": [],
   "source": [
    "training_set.drop('Ticket', axis=1, inplace=True)\n",
    "test_set.drop('Ticket', axis=1, inplace=True)\n"
   ]
  },
  {
   "cell_type": "markdown",
   "metadata": {},
   "source": [
    "## 📊 **Step 4: Handle Missing Values**\n",
    "\n",
    "***👶 Fill Missing Age Values Based on Title***"
   ]
  },
  {
   "cell_type": "code",
   "execution_count": 6,
   "metadata": {},
   "outputs": [],
   "source": [
    "# Calculate mean age for each title\n",
    "means_title = training_set.groupby('Title')['Age'].mean()\n",
    "\n",
    "# Function to replace NaN values with mean age based on title\n",
    "def age_nan_replace(means, dframe, title_list):\n",
    "    for title in title_list:\n",
    "        temp = dframe['Title'] == title  # Extract indices\n",
    "        dframe.loc[temp, 'Age'] = dframe.loc[temp, 'Age'].fillna(means[title])  # Replace NaN\n",
    "\n",
    "# Apply transformation\n",
    "title_list = ['Mr', 'Miss', 'Mrs', 'Master', 'Royalty', 'Officer']\n",
    "age_nan_replace(means_title, training_set, title_list)\n",
    "age_nan_replace(means_title, test_set, title_list)\n"
   ]
  },
  {
   "cell_type": "markdown",
   "metadata": {},
   "source": [
    "***🚢 Fill Missing Embarked Values***"
   ]
  },
  {
   "cell_type": "code",
   "execution_count": 7,
   "metadata": {},
   "outputs": [
    {
     "name": "stderr",
     "output_type": "stream",
     "text": [
      "C:\\Users\\prash\\AppData\\Local\\Temp\\ipykernel_30140\\2272086119.py:2: FutureWarning: A value is trying to be set on a copy of a DataFrame or Series through chained assignment using an inplace method.\n",
      "The behavior will change in pandas 3.0. This inplace method will never work because the intermediate object on which we are setting values always behaves as a copy.\n",
      "\n",
      "For example, when doing 'df[col].method(value, inplace=True)', try using 'df.method({col: value}, inplace=True)' or df[col] = df[col].method(value) instead, to perform the operation inplace on the original object.\n",
      "\n",
      "\n",
      "  training_set['Embarked'].fillna('S', inplace=True)\n",
      "C:\\Users\\prash\\AppData\\Local\\Temp\\ipykernel_30140\\2272086119.py:3: FutureWarning: A value is trying to be set on a copy of a DataFrame or Series through chained assignment using an inplace method.\n",
      "The behavior will change in pandas 3.0. This inplace method will never work because the intermediate object on which we are setting values always behaves as a copy.\n",
      "\n",
      "For example, when doing 'df[col].method(value, inplace=True)', try using 'df.method({col: value}, inplace=True)' or df[col] = df[col].method(value) instead, to perform the operation inplace on the original object.\n",
      "\n",
      "\n",
      "  test_set['Embarked'].fillna('S', inplace=True)\n"
     ]
    }
   ],
   "source": [
    "# Fill missing embarked values with 'S' (most common)\n",
    "training_set['Embarked'].fillna('S', inplace=True)\n",
    "test_set['Embarked'].fillna('S', inplace=True)\n"
   ]
  },
  {
   "cell_type": "markdown",
   "metadata": {},
   "source": [
    "***💰 Fill Missing Fare Values***"
   ]
  },
  {
   "cell_type": "code",
   "execution_count": 8,
   "metadata": {},
   "outputs": [
    {
     "name": "stderr",
     "output_type": "stream",
     "text": [
      "C:\\Users\\prash\\AppData\\Local\\Temp\\ipykernel_30140\\4092916540.py:2: FutureWarning: A value is trying to be set on a copy of a DataFrame or Series through chained assignment using an inplace method.\n",
      "The behavior will change in pandas 3.0. This inplace method will never work because the intermediate object on which we are setting values always behaves as a copy.\n",
      "\n",
      "For example, when doing 'df[col].method(value, inplace=True)', try using 'df.method({col: value}, inplace=True)' or df[col] = df[col].method(value) instead, to perform the operation inplace on the original object.\n",
      "\n",
      "\n",
      "  test_set['Fare'].fillna(test_set['Fare'].mean(), inplace=True)\n"
     ]
    }
   ],
   "source": [
    "# Fill missing fare values with mean\n",
    "test_set['Fare'].fillna(test_set['Fare'].mean(), inplace=True)\n"
   ]
  },
  {
   "cell_type": "markdown",
   "metadata": {},
   "source": [
    "## 📊 **Step 5: Data Visualization**\n",
    "\n",
    "***📈 Survival Rate by Gender***"
   ]
  },
  {
   "cell_type": "code",
   "execution_count": 9,
   "metadata": {},
   "outputs": [
    {
     "data": {
      "image/png": "[encoded data removed]",
      "text/plain": [
       "<Figure size 640x480 with 1 Axes>"
      ]
     },
     "metadata": {},
     "output_type": "display_data"
    }
   ],
   "source": [
    "index = training_set['Survived'].unique()  # Get categories\n",
    "grouped_data = training_set.groupby(['Survived', 'Sex'])\n",
    "temp = grouped_data.size().unstack()\n",
    "\n",
    "women_stats = (temp.iat[0,0], temp.iat[1,0])\n",
    "men_stats = (temp.iat[0,1], temp.iat[1,1])\n",
    "\n",
    "# Plot survival statistics\n",
    "p1 = plt.bar(index, women_stats)\n",
    "p2 = plt.bar(index, men_stats, bottom=women_stats)\n",
    "\n",
    "plt.xticks(index, ('No', 'Yes'))\n",
    "plt.ylabel('Number of People')\n",
    "plt.xlabel('Survival')\n",
    "plt.title('Survival of Passengers')\n",
    "plt.legend((p1[0], p2[0]), ('Women', 'Men'))\n",
    "plt.tight_layout()\n",
    "plt.show()\n"
   ]
  },
  {
   "cell_type": "markdown",
   "metadata": {},
   "source": [
    "## 🔢 **Step 6: Feature Engineering**\n",
    "\n",
    "***👨‍👩‍👧‍👦 Create Family Size Feature***"
   ]
  },
  {
   "cell_type": "code",
   "execution_count": 10,
   "metadata": {},
   "outputs": [],
   "source": [
    "# Create Family Size feature\n",
    "training_set['Family Size'] = training_set['Parch'] + training_set['SibSp']\n",
    "test_set['Family Size'] = test_set['Parch'] + test_set['SibSp']\n",
    "\n",
    "# Drop Parch and SibSp columns\n",
    "training_set.drop(['Parch', 'SibSp'], axis=1, inplace=True)\n",
    "test_set.drop(['Parch', 'SibSp'], axis=1, inplace=True)\n"
   ]
  },
  {
   "cell_type": "markdown",
   "metadata": {},
   "source": [
    "## ⚖️ **Step 7: Standardization & Encoding**\n",
    "\n",
    "***🔄 Standardizing Age & Fare***"
   ]
  },
  {
   "cell_type": "code",
   "execution_count": 11,
   "metadata": {},
   "outputs": [],
   "source": [
    "scaler = StandardScaler()\n",
    "for column in ['Age', 'Fare']:\n",
    "    training_set[column] = scaler.fit_transform(training_set[column].values.reshape(-1,1))\n",
    "    test_set[column] = scaler.transform(test_set[column].values.reshape(-1,1))\n"
   ]
  },
  {
   "cell_type": "markdown",
   "metadata": {},
   "source": [
    "***🎭 Encoding Categorical Features***"
   ]
  },
  {
   "cell_type": "code",
   "execution_count": 12,
   "metadata": {},
   "outputs": [],
   "source": [
    "encoder = LabelEncoder()\n",
    "categorical_features = ['Sex', 'Embarked', 'Deck', 'Title']\n",
    "\n",
    "for feature in categorical_features:\n",
    "    training_set[feature] = encoder.fit_transform(training_set[feature])\n",
    "    test_set[feature] = encoder.transform(test_set[feature])\n"
   ]
  },
  {
   "cell_type": "markdown",
   "metadata": {},
   "source": [
    "## 🎯 **Step 8: Prepare Dataset for Model Training**"
   ]
  },
  {
   "cell_type": "code",
   "execution_count": 13,
   "metadata": {},
   "outputs": [],
   "source": [
    "# One-hot encode categorical features\n",
    "training_set = pd.get_dummies(training_set, columns=['Embarked', 'Pclass', 'Title', 'Deck'])\n",
    "test_set = pd.get_dummies(test_set, columns=['Embarked', 'Pclass', 'Title', 'Deck'])\n",
    "\n",
    "# Align train and test sets\n",
    "training_set, test_set = training_set.align(test_set, axis=1, fill_value=0)\n",
    "\n",
    "# Extract features and target\n",
    "y = training_set['Survived'].values\n",
    "X = training_set.drop(['Survived', 'PassengerId'], axis=1).values\n",
    "X_test = test_set.drop('PassengerId', axis=1).values\n"
   ]
  },
  {
   "cell_type": "markdown",
   "metadata": {},
   "source": [
    "## 🏁 **Conclusion** 🎯\n",
    "\n",
    "- We successfully cleaned and preprocessed the Titanic dataset.\n",
    "\n",
    "- Important features like Gender, Age, Passenger Class, and Family Size were identified.\n",
    "\n",
    "- Data was standardized, encoded, and made ready for machine learning models.\n",
    "\n",
    "- This dataset is now prepared for classification models to predict survival. 🚀🔥"
   ]
  }
 ],
 "metadata": {
  "kernelspec": {
   "display_name": "venv",
   "language": "python",
   "name": "python3"
  },
  "language_info": {
   "codemirror_mode": {
    "name": "ipython",
    "version": 3
   },
   "file_extension": ".py",
   "mimetype": "text/x-python",
   "name": "python",
   "nbconvert_exporter": "python",
   "pygments_lexer": "ipython3",
   "version": "3.12.0"
  }
 },
 "nbformat": 4,
 "nbformat_minor": 2
}

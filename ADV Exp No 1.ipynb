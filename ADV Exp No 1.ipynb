{
 "cells": [
  {
   "cell_type": "markdown",
   "metadata": {},
   "source": [
    "# ✨ **Experiment No. 01: Titanic Dataset - Data Preprocessing** 🚢\n",
    "\n",
    "**Author-** *Prashant Kumar*\n",
    "\n",
    "**Class-** *T.Y.B.Tech (CSE)*\n",
    "\n",
    "**Roll No.** *B34*\n",
    "\n",
    "\n",
    "\n",
    "---\n",
    "\n",
    "## 📌 **Introduction**\n",
    "On April 15, 1912, during her maiden voyage, the widely considered **\"unsinkable\" RMS Titanic** sank after colliding with an iceberg. Unfortunately, there weren’t enough lifeboats for everyone onboard, resulting in the death of **1,502 out of 2,224 passengers and crew**.\n",
    "\n",
    "This experiment aims to analyze **how different factors (such as gender, age, and socio-economic status) influenced survival rates**. We will perform **data preprocessing** on the Titanic dataset to clean the data and prepare it for further analysis.\n",
    "\n",
    "---\n",
    "\n",
    "## 🔹 **Dataset Used**  \n",
    "📂 **File Name:** `titanic-data.csv`  \n",
    "📊 **Dataset Description:** Contains details about **passengers, survival status, age, class, and other attributes**.\n",
    "\n",
    "---\n",
    "\n",
    "## ⚙ **Step 1: Load the Dataset**\n",
    "```"
   ]
  },
  {
   "cell_type": "code",
   "execution_count": 65,
   "metadata": {},
   "outputs": [
    {
     "name": "stdout",
     "output_type": "stream",
     "text": [
      "First 5 rows of the dataset:\n",
      "   PassengerId  Survived  Pclass  \\\n",
      "0            1         0       3   \n",
      "1            2         1       1   \n",
      "2            3         1       3   \n",
      "3            4         1       1   \n",
      "4            5         0       3   \n",
      "\n",
      "                                                Name     Sex   Age  SibSp  \\\n",
      "0                            Braund, Mr. Owen Harris    male  22.0      1   \n",
      "1  Cumings, Mrs. John Bradley (Florence Briggs Th...  female  38.0      1   \n",
      "2                             Heikkinen, Miss. Laina  female  26.0      0   \n",
      "3       Futrelle, Mrs. Jacques Heath (Lily May Peel)  female  35.0      1   \n",
      "4                           Allen, Mr. William Henry    male  35.0      0   \n",
      "\n",
      "   Parch            Ticket     Fare Cabin Embarked  \n",
      "0      0         A/5 21171   7.2500   NaN        S  \n",
      "1      0          PC 17599  71.2833   C85        C  \n",
      "2      0  STON/O2. 3101282   7.9250   NaN        S  \n",
      "3      0            113803  53.1000  C123        S  \n",
      "4      0            373450   8.0500   NaN        S  \n"
     ]
    }
   ],
   "source": [
    "import pandas as pd\n",
    "import numpy as np\n",
    "\n",
    "# Load dataset\n",
    "data = pd.read_csv(\"C:/Users/prash/Desktop/Data Analytics & Visualization/titanic-data.csv\")\n",
    "print(\"First 5 rows of the dataset:\")\n",
    "print(data.head())\n",
    "\n"
   ]
  },
  {
   "cell_type": "markdown",
   "metadata": {},
   "source": [
    "## 📊 **Step 2: Explore the Data**"
   ]
  },
  {
   "cell_type": "code",
   "execution_count": 66,
   "metadata": {},
   "outputs": [
    {
     "name": "stdout",
     "output_type": "stream",
     "text": [
      "\n",
      "Data Types:\n",
      "PassengerId      int64\n",
      "Survived         int64\n",
      "Pclass           int64\n",
      "Name            object\n",
      "Sex             object\n",
      "Age            float64\n",
      "SibSp            int64\n",
      "Parch            int64\n",
      "Ticket          object\n",
      "Fare           float64\n",
      "Cabin           object\n",
      "Embarked        object\n",
      "dtype: object\n",
      "\n",
      "Column Names: Index(['PassengerId', 'Survived', 'Pclass', 'Name', 'Sex', 'Age', 'SibSp',\n",
      "       'Parch', 'Ticket', 'Fare', 'Cabin', 'Embarked'],\n",
      "      dtype='object')\n"
     ]
    }
   ],
   "source": [
    "# Check data types and column names\n",
    "print(\"\\nData Types:\")\n",
    "print(data.dtypes)\n",
    "print(\"\\nColumn Names:\", data.columns)"
   ]
  },
  {
   "cell_type": "code",
   "execution_count": 67,
   "metadata": {},
   "outputs": [
    {
     "name": "stdout",
     "output_type": "stream",
     "text": [
      "\n",
      "Survival Count:\n",
      "Survived\n",
      "0    549\n",
      "1    342\n",
      "Name: count, dtype: int64\n"
     ]
    }
   ],
   "source": [
    "# Explore the target variable 'Survived'\n",
    "print(\"\\nSurvival Count:\")\n",
    "print(data['Survived'].value_counts())"
   ]
  },
  {
   "cell_type": "markdown",
   "metadata": {},
   "source": [
    "## 📈 **Step 3: Analyze Survival Rate by Different Categories**"
   ]
  },
  {
   "cell_type": "code",
   "execution_count": 68,
   "metadata": {},
   "outputs": [
    {
     "name": "stdout",
     "output_type": "stream",
     "text": [
      "\n",
      "Total number of passengers: 891\n",
      "Number of passengers who survived: 342\n",
      "Number of passengers who didn't survive: 549\n"
     ]
    }
   ],
   "source": [
    "# Total number of passengers\n",
    "print(\"\\nTotal number of passengers:\", len(data))\n",
    "print(\"Number of passengers who survived:\", len(data[data['Survived'] == 1]))\n",
    "print(\"Number of passengers who didn't survive:\", len(data[data['Survived'] == 0]))"
   ]
  },
  {
   "cell_type": "code",
   "execution_count": 69,
   "metadata": {},
   "outputs": [
    {
     "name": "stdout",
     "output_type": "stream",
     "text": [
      "\n",
      "Survival Rate by Gender:\n",
      "% of male who survived: 18.890814558058924\n",
      "% of female who survived: 74.20382165605095\n"
     ]
    }
   ],
   "source": [
    "# Gender-wise survival rate\n",
    "print(\"\\nSurvival Rate by Gender:\")\n",
    "print('% of male who survived:', 100 * np.mean(data['Survived'][data['Sex'] == 'male']))\n",
    "print('% of female who survived:', 100 * np.mean(data['Survived'][data['Sex'] == 'female']))"
   ]
  },
  {
   "cell_type": "code",
   "execution_count": 70,
   "metadata": {},
   "outputs": [
    {
     "name": "stdout",
     "output_type": "stream",
     "text": [
      "\n",
      "Survival Rate by Passenger Class:\n",
      "% of passengers who survived in class 1: 62.96296296296296\n",
      "% of passengers who survived in class 2: 47.28260869565217\n",
      "% of passengers who survived in class 3: 24.236252545824847\n"
     ]
    }
   ],
   "source": [
    "# Class-wise survival rate\n",
    "print(\"\\nSurvival Rate by Passenger Class:\")\n",
    "for pclass in [1, 2, 3]:\n",
    "    print(f'% of passengers who survived in class {pclass}:', \n",
    "          100 * np.mean(data['Survived'][data['Pclass'] == pclass]))"
   ]
  },
  {
   "cell_type": "code",
   "execution_count": 71,
   "metadata": {},
   "outputs": [
    {
     "name": "stdout",
     "output_type": "stream",
     "text": [
      "\n",
      "Dataset Shape: (891, 12)\n",
      "\n",
      "Dataset Info:\n",
      "<class 'pandas.core.frame.DataFrame'>\n",
      "RangeIndex: 891 entries, 0 to 890\n",
      "Data columns (total 12 columns):\n",
      " #   Column       Non-Null Count  Dtype  \n",
      "---  ------       --------------  -----  \n",
      " 0   PassengerId  891 non-null    int64  \n",
      " 1   Survived     891 non-null    int64  \n",
      " 2   Pclass       891 non-null    int64  \n",
      " 3   Name         891 non-null    object \n",
      " 4   Sex          891 non-null    object \n",
      " 5   Age          714 non-null    float64\n",
      " 6   SibSp        891 non-null    int64  \n",
      " 7   Parch        891 non-null    int64  \n",
      " 8   Ticket       891 non-null    object \n",
      " 9   Fare         891 non-null    float64\n",
      " 10  Cabin        204 non-null    object \n",
      " 11  Embarked     889 non-null    object \n",
      "dtypes: float64(2), int64(5), object(5)\n",
      "memory usage: 83.7+ KB\n",
      "None\n",
      "\n",
      "Age Distribution:\n",
      "Age\n",
      "24.00    30\n",
      "22.00    27\n",
      "18.00    26\n",
      "28.00    25\n",
      "30.00    25\n",
      "         ..\n",
      "24.50     1\n",
      "0.67      1\n",
      "0.42      1\n",
      "34.50     1\n",
      "74.00     1\n",
      "Name: count, Length: 88, dtype: int64\n"
     ]
    }
   ],
   "source": [
    "# Data Summary\n",
    "print(\"\\nDataset Shape:\", data.shape)\n",
    "print(\"\\nDataset Info:\")\n",
    "print(data.info())\n",
    "print(\"\\nAge Distribution:\")\n",
    "print(data['Age'].value_counts())"
   ]
  },
  {
   "cell_type": "markdown",
   "metadata": {},
   "source": [
    "## 🛠 **Step 4: Data Cleaning & Handling Missing Values**"
   ]
  },
  {
   "cell_type": "code",
   "execution_count": 72,
   "metadata": {},
   "outputs": [
    {
     "name": "stdout",
     "output_type": "stream",
     "text": [
      "\n",
      "Missing Values Before Handling:\n",
      "PassengerId      0\n",
      "Survived         0\n",
      "Pclass           0\n",
      "Name             0\n",
      "Sex              0\n",
      "Age            177\n",
      "SibSp            0\n",
      "Parch            0\n",
      "Ticket           0\n",
      "Fare             0\n",
      "Cabin          687\n",
      "Embarked         2\n",
      "dtype: int64\n"
     ]
    }
   ],
   "source": [
    "# Handling Missing Values\n",
    "df2 = data.copy()\n",
    "print(\"\\nMissing Values Before Handling:\")\n",
    "print(df2.isnull().sum())"
   ]
  },
  {
   "cell_type": "markdown",
   "metadata": {},
   "source": [
    "## 🔄 **Step 5: Convert Categorical Data to Numeric**"
   ]
  },
  {
   "cell_type": "code",
   "execution_count": 73,
   "metadata": {},
   "outputs": [
    {
     "name": "stderr",
     "output_type": "stream",
     "text": [
      "C:\\Users\\prash\\AppData\\Local\\Temp\\ipykernel_4520\\3489239321.py:2: FutureWarning: A value is trying to be set on a copy of a DataFrame or Series through chained assignment using an inplace method.\n",
      "The behavior will change in pandas 3.0. This inplace method will never work because the intermediate object on which we are setting values always behaves as a copy.\n",
      "\n",
      "For example, when doing 'df[col].method(value, inplace=True)', try using 'df.method({col: value}, inplace=True)' or df[col] = df[col].method(value) instead, to perform the operation inplace on the original object.\n",
      "\n",
      "\n",
      "  df2['Age'].fillna(df2['Age'].mean(), inplace=True)\n"
     ]
    }
   ],
   "source": [
    "# Fill missing Age values with mean\n",
    "df2['Age'].fillna(df2['Age'].mean(), inplace=True)"
   ]
  },
  {
   "cell_type": "code",
   "execution_count": 74,
   "metadata": {},
   "outputs": [
    {
     "name": "stderr",
     "output_type": "stream",
     "text": [
      "C:\\Users\\prash\\AppData\\Local\\Temp\\ipykernel_4520\\1256033871.py:2: FutureWarning: A value is trying to be set on a copy of a DataFrame or Series through chained assignment using an inplace method.\n",
      "The behavior will change in pandas 3.0. This inplace method will never work because the intermediate object on which we are setting values always behaves as a copy.\n",
      "\n",
      "For example, when doing 'df[col].method(value, inplace=True)', try using 'df.method({col: value}, inplace=True)' or df[col] = df[col].method(value) instead, to perform the operation inplace on the original object.\n",
      "\n",
      "\n",
      "  df2['Embarked'].fillna(df2['Embarked'].mode()[0], inplace=True)\n"
     ]
    }
   ],
   "source": [
    "# Fill missing Embarked values with mode\n",
    "df2['Embarked'].fillna(df2['Embarked'].mode()[0], inplace=True)"
   ]
  },
  {
   "cell_type": "code",
   "execution_count": 75,
   "metadata": {},
   "outputs": [
    {
     "name": "stderr",
     "output_type": "stream",
     "text": [
      "C:\\Users\\prash\\AppData\\Local\\Temp\\ipykernel_4520\\1864414740.py:2: FutureWarning: A value is trying to be set on a copy of a DataFrame or Series through chained assignment using an inplace method.\n",
      "The behavior will change in pandas 3.0. This inplace method will never work because the intermediate object on which we are setting values always behaves as a copy.\n",
      "\n",
      "For example, when doing 'df[col].method(value, inplace=True)', try using 'df.method({col: value}, inplace=True)' or df[col] = df[col].method(value) instead, to perform the operation inplace on the original object.\n",
      "\n",
      "\n",
      "  df2['Cabin'].fillna(df2['Cabin'].mode()[0], inplace=True)\n"
     ]
    }
   ],
   "source": [
    "# Fill missing Cabin values with mode\n",
    "df2['Cabin'].fillna(df2['Cabin'].mode()[0], inplace=True)"
   ]
  },
  {
   "cell_type": "code",
   "execution_count": 76,
   "metadata": {},
   "outputs": [],
   "source": [
    "# Convert 'Sex' column to numeric\n",
    "df2['Sex'] = df2['Sex'].apply(lambda x: 1 if x == 'male' else 0)\n"
   ]
  },
  {
   "cell_type": "code",
   "execution_count": 77,
   "metadata": {},
   "outputs": [
    {
     "name": "stdout",
     "output_type": "stream",
     "text": [
      "\n",
      "Missing Values After Handling:\n",
      "PassengerId    0\n",
      "Survived       0\n",
      "Pclass         0\n",
      "Name           0\n",
      "Sex            0\n",
      "Age            0\n",
      "SibSp          0\n",
      "Parch          0\n",
      "Ticket         0\n",
      "Fare           0\n",
      "Cabin          0\n",
      "Embarked       0\n",
      "dtype: int64\n"
     ]
    }
   ],
   "source": [
    "# Check for missing values after handling\n",
    "print(\"\\nMissing Values After Handling:\")\n",
    "print(df2.isnull().sum())"
   ]
  },
  {
   "cell_type": "markdown",
   "metadata": {},
   "source": [
    "## 📊 **Step 6: Compute Correlation Matrix**"
   ]
  },
  {
   "cell_type": "code",
   "execution_count": 78,
   "metadata": {},
   "outputs": [
    {
     "name": "stdout",
     "output_type": "stream",
     "text": [
      "\n",
      "Correlation Matrix:\n",
      "             PassengerId  Survived    Pclass       Sex       Age     SibSp  \\\n",
      "PassengerId     1.000000 -0.005007 -0.035144  0.042939  0.033207 -0.057527   \n",
      "Survived       -0.005007  1.000000 -0.338481 -0.543351 -0.069809 -0.035322   \n",
      "Pclass         -0.035144 -0.338481  1.000000  0.131900 -0.331339  0.083081   \n",
      "Sex             0.042939 -0.543351  0.131900  1.000000  0.084153 -0.114631   \n",
      "Age             0.033207 -0.069809 -0.331339  0.084153  1.000000 -0.232625   \n",
      "SibSp          -0.057527 -0.035322  0.083081 -0.114631 -0.232625  1.000000   \n",
      "Parch          -0.001652  0.081629  0.018443 -0.245489 -0.179191  0.414838   \n",
      "Fare            0.012658  0.257307 -0.549500 -0.182333  0.091566  0.159651   \n",
      "\n",
      "                Parch      Fare  \n",
      "PassengerId -0.001652  0.012658  \n",
      "Survived     0.081629  0.257307  \n",
      "Pclass       0.018443 -0.549500  \n",
      "Sex         -0.245489 -0.182333  \n",
      "Age         -0.179191  0.091566  \n",
      "SibSp        0.414838  0.159651  \n",
      "Parch        1.000000  0.216225  \n",
      "Fare         0.216225  1.000000  \n"
     ]
    }
   ],
   "source": [
    "# Drop non-numeric columns before computing correlation\n",
    "df_numeric = df2.select_dtypes(include=['number'])\n",
    "\n",
    "# Display correlation matrix\n",
    "print(\"\\nCorrelation Matrix:\")\n",
    "print(df_numeric.corr())\n"
   ]
  },
  {
   "cell_type": "markdown",
   "metadata": {},
   "source": [
    "## ✅ **Conclusion** 🏆\n",
    "\n",
    "🔹 Women and first-class passengers had higher survival rates, supporting historical records.\n",
    "\n",
    "🔹 Preprocessing techniques like missing value handling and categorical encoding improved data quality.\n",
    "\n",
    "🔹 The cleaned dataset is now ready for further analysis and predictive modeling."
   ]
  }
 ],
 "metadata": {
  "kernelspec": {
   "display_name": "venv",
   "language": "python",
   "name": "python3"
  },
  "language_info": {
   "codemirror_mode": {
    "name": "ipython",
    "version": 3
   },
   "file_extension": ".py",
   "mimetype": "text/x-python",
   "name": "python",
   "nbconvert_exporter": "python",
   "pygments_lexer": "ipython3",
   "version": "3.12.0"
  }
 },
 "nbformat": 4,
 "nbformat_minor": 2
}
